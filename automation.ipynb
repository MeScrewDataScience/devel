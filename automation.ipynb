{
 "cells": [
  {
   "cell_type": "code",
   "execution_count": 65,
   "metadata": {},
   "outputs": [],
   "source": [
    "%reload_ext autoreload\n",
    "%autoreload 2\n",
    "\n",
    "import pandas as pd\n",
    "from devel import MultiAccTrade\n",
    "from devel import FuturesTrade\n",
    "\n",
    "\n",
    "folder = r'C:\\Users\\tai.tv\\Desktop\\Automation'\n",
    "\n",
    "########### Manually input here ###########\n",
    "clients = {\n",
    "    'Tuan Minh': {\n",
    "        'username': '077C071539',\n",
    "        'password': 'tuanminh3915',\n",
    "    },\n",
    "    'Khoa': {\n",
    "        'username': '077C075248',\n",
    "        'password': 'Manggarock93',\n",
    "    },\n",
    "}\n",
    "##############################################\n",
    "\n",
    "for client in clients:\n",
    "    clients[client]['name'] = client\n",
    "    clientcard_file = ''.join ([\n",
    "        folder, '\\client_', clients[client]['username'], '.pkl'\n",
    "    ])\n",
    "    clients[client]['clientcard'] = pd.read_pickle(clientcard_file)"
   ]
  },
  {
   "cell_type": "code",
   "execution_count": 66,
   "metadata": {},
   "outputs": [],
   "source": [
    "accounts = MultiAccTrade(clients)\n",
    "accounts.login()"
   ]
  },
  {
   "cell_type": "code",
   "execution_count": 67,
   "metadata": {},
   "outputs": [],
   "source": [
    "# accounts.reload_entry_strategies(\n",
    "#         {\n",
    "#         'VN30F2005':{\n",
    "#             'direction': 'long',\n",
    "#             'volume': 1,\n",
    "#             'stoploss1': 30.74,\n",
    "#             'stoploss2': 30.17,\n",
    "#         },\n",
    "#         'VN30F2006':{\n",
    "#             'direction': 'long',\n",
    "#             'volume': 1,\n",
    "#             'stoploss1': 30.74,\n",
    "#             'stoploss2': 30.17\n",
    "#         },\n",
    "#         'VN30F2009':{\n",
    "#             'direction': 'long',\n",
    "#             'volume': 1,\n",
    "#             'stoploss1': 30.74,\n",
    "#             'stoploss2': 30.17,\n",
    "#         },\n",
    "#     }\n",
    "# )"
   ]
  },
  {
   "cell_type": "code",
   "execution_count": 71,
   "metadata": {},
   "outputs": [
    {
     "output_type": "stream",
     "name": "stdout",
     "text": "Tuan Minh - 077C071539 - Could not place long order for VN30F2005. Error message: Alert Text: Không thể đặt lệnh trước 8h15 và sau 15h.\nMessage: unexpected alert open: {Alert text : Không thể đặt lệnh trước 8h15 và sau 15h.}\n  (Session info: chrome=81.0.4044.138)\n\nKhoa - 077C075248 - Could not place long order for VN30F2005. Error message: Alert Text: Không thể đặt lệnh trước 8h15 và sau 15h.\nMessage: unexpected alert open: {Alert text : Không thể đặt lệnh trước 8h15 và sau 15h.}\n  (Session info: chrome=81.0.4044.138)\n\nTuan Minh - 077C071539 - Could not find contract VN30F2005 in list of current trades\nTuan Minh - 077C071539 - Could not place a stop loss because the long order has not been filled yet\nKhoa - 077C075248 - Could not find contract VN30F2005 in list of current trades\nKhoa - 077C075248 - Could not place a stop loss because the long order has not been filled yet\nTuan Minh - 077C071539 - Could not find contract VN30F2005 in list of current trades\nTuan Minh - 077C071539 - Entry order for contract VN30F2005 is canceled because of being unable to be filled.\nKhoa - 077C075248 - Could not find contract VN30F2005 in list of current trades\nKhoa - 077C075248 - Entry order for contract VN30F2005 is canceled because of being unable to be filled.\n"
    }
   ],
   "source": [
    "accounts.entry_order(\n",
    "    {\n",
    "        'VN30F2005':{\n",
    "            'direction': 'long',\n",
    "            'volume': 1,\n",
    "            'stoploss1': 30.74,\n",
    "            'stoploss2': 30.17,\n",
    "        },\n",
    "        # 'VN30F2006':{\n",
    "        #     'direction': 'long',\n",
    "        #     'volume': 1,\n",
    "        #     'stoploss1': 30.74,\n",
    "        #     'stoploss2': 30.17\n",
    "        # },\n",
    "        # 'VN30F2009':{\n",
    "        #     'direction': 'long',\n",
    "        #     'volume': 1,\n",
    "        #     'stoploss1': 30.74,\n",
    "        #     'stoploss2': 30.17,\n",
    "        # },\n",
    "    }\n",
    ")"
   ]
  },
  {
   "cell_type": "code",
   "execution_count": null,
   "metadata": {},
   "outputs": [],
   "source": [
    "accounts.show_status()"
   ]
  },
  {
   "cell_type": "code",
   "execution_count": 53,
   "metadata": {},
   "outputs": [
    {
     "output_type": "stream",
     "name": "stdout",
     "text": "Tuan Minh - 077C071539 - Could not place short order for VN30F2005. Error message: Alert Text: Không thể đặt lệnh trước 8h15 và sau 15h.\nMessage: unexpected alert open: {Alert text : Không thể đặt lệnh trước 8h15 và sau 15h.}\n  (Session info: chrome=81.0.4044.138)\n\nKhoa - 077C075248 - Could not place short order for VN30F2005. Error message: Alert Text: Không thể đặt lệnh trước 8h15 và sau 15h.\nMessage: unexpected alert open: {Alert text : Không thể đặt lệnh trước 8h15 và sau 15h.}\n  (Session info: chrome=81.0.4044.138)\n\n"
    }
   ],
   "source": [
    "accounts.exit_order(\n",
    "    {\n",
    "        'VN30F2005':{\n",
    "            'volume': 1,\n",
    "        },\n",
    "    #     'VN30F2006':{\n",
    "    #         'volume': 1,\n",
    "    #     },\n",
    "    #     'VN30F2007':{\n",
    "    #         'volume': 1,\n",
    "    #     },\n",
    "    }\n",
    ")"
   ]
  },
  {
   "cell_type": "code",
   "execution_count": 63,
   "metadata": {},
   "outputs": [],
   "source": [
    "accounts.close()"
   ]
  }
 ],
 "metadata": {
  "kernelspec": {
   "display_name": "Python 3",
   "language": "python",
   "name": "python3"
  },
  "language_info": {
   "codemirror_mode": {
    "name": "ipython",
    "version": 3
   },
   "file_extension": ".py",
   "mimetype": "text/x-python",
   "name": "python",
   "nbconvert_exporter": "python",
   "pygments_lexer": "ipython3",
   "version": "3.7.6-final"
  }
 },
 "nbformat": 4,
 "nbformat_minor": 4
}