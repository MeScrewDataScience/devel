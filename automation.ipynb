{
 "cells": [
  {
   "cell_type": "code",
   "execution_count": 59,
   "metadata": {},
   "outputs": [],
   "source": [
    "%reload_ext autoreload\n",
    "%autoreload 2\n",
    "\n",
    "import pandas as pd\n",
    "from devel import MultiAccTrade\n",
    "from devel import FuturesTrade"
   ]
  },
  {
   "cell_type": "code",
   "execution_count": 60,
   "metadata": {},
   "outputs": [],
   "source": [
    "folder = r'C:\\Users\\tai.tv\\Desktop\\Automation'\n",
    "\n",
    "########### Manually input here ###########\n",
    "clients = {\n",
    "    'Tuan Minh': {\n",
    "        'username': '077C071539',\n",
    "        'password': 'tuanminh3915',\n",
    "    },\n",
    "    'A Khoa': {\n",
    "        'username': '077C076799',\n",
    "        'password': 'tai0109',\n",
    "    },\n",
    "}\n",
    "##############################################\n",
    "\n",
    "for client in clients:\n",
    "    clients[client]['name'] = client\n",
    "    clientcard_file = ''.join ([\n",
    "        folder, '\\client_', clients[client]['username'], '.pkl'\n",
    "    ])\n",
    "    clients[client]['clientcard'] = pd.read_pickle(clientcard_file)"
   ]
  },
  {
   "cell_type": "code",
   "execution_count": 62,
   "metadata": {},
   "outputs": [],
   "source": [
    "accounts = MultiAccTrade(clients)\n",
    "accounts.login()"
   ]
  },
  {
   "cell_type": "code",
   "execution_count": 17,
   "metadata": {},
   "outputs": [],
   "source": [
    "# accounts.reload_entry_strategies(\n",
    "#         {\n",
    "#         'VN30F2005':{\n",
    "#             'direction': 'long',\n",
    "#             'volume': 1,\n",
    "#             'order_stoploss': 30.74,\n",
    "#             'trigger_stoploss': 30.17,\n",
    "#         },\n",
    "#         'VN30F2006':{\n",
    "#             'direction': 'long',\n",
    "#             'volume': 1,\n",
    "#             'order_stoploss': 30.74,\n",
    "#             'trigger_stoploss': 30.17\n",
    "#         },\n",
    "#         'VN30F2009':{\n",
    "#             'direction': 'long',\n",
    "#             'volume': 1,\n",
    "#             'order_stoploss': 30.74,\n",
    "#             'trigger_stoploss': 30.17,\n",
    "#         },\n",
    "#     }\n",
    "# )"
   ]
  },
  {
   "cell_type": "code",
   "execution_count": 44,
   "metadata": {},
   "outputs": [
    {
     "output_type": "stream",
     "name": "stdout",
     "text": "A Khoa - 077C076799 - Could not place long order for VN30F2006. Error message: Message: \n\nTuan Minh - 077C071539 - Could not place long order for VN30F2006. Error message: Message: \n\nA Khoa - 077C076799 - Could not place a stop loss because the long order has not been filled yet\nTuan Minh - 077C071539 - Could not place a stop loss because the long order has not been filled yet\nA Khoa - 077C076799 - Entry order for contract VN30F2006 is canceled because of being unable to be filled.\nTuan Minh - 077C071539 - Entry order for contract VN30F2006 is canceled because of being unable to be filled.\n"
    }
   ],
   "source": [
    "accounts.entry_order(\n",
    "    {\n",
    "        'VN30F2006':{\n",
    "            'direction': 'long',\n",
    "            'volume': 1,\n",
    "            'tolerance': 0.3,\n",
    "            'order_stoploss': 804,\n",
    "            'trigger_stoploss': 804,\n",
    "        },\n",
    "        # 'VN30F2006':{\n",
    "        #     'direction': 'long',\n",
    "        #     'volume': 1,\n",
    "        #     'order_stoploss': 30.74,\n",
    "        #     'trigger_stoploss': 30.17\n",
    "        # },\n",
    "        # 'VN30F2009':{\n",
    "        #     'direction': 'long',\n",
    "        #     'volume': 1,\n",
    "        #     'order_stoploss': 30.74,\n",
    "        #     'trigger_stoploss': 30.17,\n",
    "        # },\n",
    "    }\n",
    ")"
   ]
  },
  {
   "cell_type": "code",
   "execution_count": 35,
   "metadata": {},
   "outputs": [
    {
     "output_type": "stream",
     "name": "stdout",
     "text": "--------------------------------------------------------------------------------\nClient: Tuan Minh\n       Mã HĐ Mua/Bán    Giá  Khối lượng  KL còn lại  KL khớp  Giá TB  \\\n0  VN30F2006     Mua  805.3           1           0        0     0.0   \n1  VN30F2006     Bán  804.0           1           0        0     0.0   \n2  VN30F2006     Mua  805.3           1           0        0     0.0   \n3  VN30F2006     Mua  805.3           1           0        0     0.0   \n\n  Trạng thái Loại lệnh        Thời gian GD  \n0        Hủy        LO  2020-6-13 14:24:33  \n1        Hủy        LO   2020-6-13 14:1:36  \n2        Hủy        LO  2020-6-13 13:48:54  \n3        Hủy        LO  2020-6-13 13:47:42  \n--------------------------------------------------------------------------------\n\n--------------------------------------------------------------------------------\nClient: A Khoa\n       Mã HĐ Mua/Bán    Giá  Khối lượng  KL còn lại  KL khớp  Giá TB  \\\n0  VN30F2006     Mua  805.3           1           0        0     0.0   \n1  VN30F2006     Mua  805.0           2           0        0     0.0   \n2  VN30F2006     Mua  805.0           2           0        0     0.0   \n\n  Trạng thái Loại lệnh        Thời gian GD  \n0        Hủy        LO  2020-6-13 14:24:33  \n1        Hủy        LO   2020-6-13 13:4:58  \n2        Hủy        LO   2020-6-13 13:4:57  \n--------------------------------------------------------------------------------\n\n"
    }
   ],
   "source": [
    "accounts.show_status()"
   ]
  },
  {
   "cell_type": "code",
   "execution_count": null,
   "metadata": {},
   "outputs": [],
   "source": [
    "accounts.place_stoploss(\n",
    "    {\n",
    "        'VN30F2006':{\n",
    "            'order_stoploss': 806,\n",
    "            'trigger_stoploss': 807,\n",
    "        },\n",
    "        # 'VN30F2007':{\n",
    "        #     'order_stoploss': 805,\n",
    "        #     'trigger_stoploss': 805.6\n",
    "        # },\n",
    "    }\n",
    ")"
   ]
  },
  {
   "cell_type": "code",
   "execution_count": null,
   "metadata": {},
   "outputs": [],
   "source": [
    "accounts.exit_order(\n",
    "    {\n",
    "        'VN30F2005':{\n",
    "            'tolerance': 0.3,\n",
    "        },\n",
    "    #     'VN30F2006':{\n",
    "    #         'tolerance': 0.3,\n",
    "    #     },\n",
    "    #     'VN30F2007':{\n",
    "    #         'tolerance': 0.3,\n",
    "    #     },\n",
    "    }\n",
    ")"
   ]
  },
  {
   "cell_type": "code",
   "execution_count": 63,
   "metadata": {},
   "outputs": [],
   "source": [
    "accounts.close()"
   ]
  }
 ],
 "metadata": {
  "kernelspec": {
   "display_name": "Python 3",
   "language": "python",
   "name": "python3"
  },
  "language_info": {
   "codemirror_mode": {
    "name": "ipython",
    "version": 3
   },
   "file_extension": ".py",
   "mimetype": "text/x-python",
   "name": "python",
   "nbconvert_exporter": "python",
   "pygments_lexer": "ipython3",
   "version": "3.7.6-final"
  }
 },
 "nbformat": 4,
 "nbformat_minor": 4
}