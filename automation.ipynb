{
 "cells": [
  {
   "cell_type": "code",
   "execution_count": 56,
   "metadata": {},
   "outputs": [],
   "source": [
    "%load_ext autoreload\n",
    "%autoreload 2\n",
    "\n",
    "import pandas as pd\n",
    "from devel import MultiAccTrade\n",
    "from devel import FuturesTrade\n",
    "\n",
    "\n",
    "folder = r'C:\\Users\\tai.tv\\Desktop\\Automation'\n",
    "\n",
    "########### Manually input here ###########\n",
    "clients = {\n",
    "    'Tuan Minh': {\n",
    "        'username': '077C071539',\n",
    "        'password': 'tuanminh3915',\n",
    "    },\n",
    "    'Khoa': {\n",
    "        'username': '077C075248',\n",
    "        'password': 'Manggarock93',\n",
    "    },\n",
    "}\n",
    "##############################################\n",
    "\n",
    "for client in clients:\n",
    "    clients[client]['name'] = client\n",
    "    clientcard_file = ''.join ([\n",
    "        folder, '\\client_', clients[client]['username'], '.pkl'\n",
    "    ])\n",
    "    clients[client]['clientcard'] = pd.read_pickle(clientcard_file)"
   ]
  },
  {
   "cell_type": "code",
   "execution_count": 58,
   "metadata": {},
   "outputs": [],
   "source": [
    "accounts = MultiAccTrade(clients)\n",
    "accounts.login()"
   ]
  },
  {
   "cell_type": "code",
   "execution_count": 57,
   "metadata": {},
   "outputs": [],
   "source": [
    "entry_strategies = {\n",
    "    'VN30F2005':{\n",
    "        'direction': 'long',\n",
    "        'volume': 1,\n",
    "        'stoploss1': 30.74,\n",
    "        'stoploss2': 30.17,\n",
    "    },\n",
    "    'VN30F2006':{\n",
    "        'direction': 'long',\n",
    "        'volume': 1,\n",
    "        'stoploss1': 30.74,\n",
    "        'stoploss2': 30.17\n",
    "    },\n",
    "    'VN30F2009':{\n",
    "        'direction': 'long',\n",
    "        'volume': 1,\n",
    "        'stoploss1': 30.74,\n",
    "        'stoploss2': 30.17,\n",
    "    },\n",
    "}"
   ]
  },
  {
   "cell_type": "code",
   "execution_count": 4,
   "metadata": {},
   "outputs": [],
   "source": [
    "# accounts.reload_entry_strategies(entry_strategies)"
   ]
  },
  {
   "cell_type": "code",
   "execution_count": 5,
   "metadata": {},
   "outputs": [
    {
     "name": "stdout",
     "output_type": "stream",
     "text": [
      "Client 077C071539 - Cannot place long order for VN30F2005. Error message: Alert Text: Không thể đặt lệnh trước 8h15 và sau 15h.\n",
      "Message: unexpected alert open: {Alert text : Không thể đặt lệnh trước 8h15 và sau 15h.}\n",
      "  (Session info: chrome=81.0.4044.122)\n",
      "\n",
      "Client 077C075248 - Cannot place long order for VN30F2005. Error message: Alert Text: Không thể đặt lệnh trước 8h15 và sau 15h.\n",
      "Message: unexpected alert open: {Alert text : Không thể đặt lệnh trước 8h15 và sau 15h.}\n",
      "  (Session info: chrome=81.0.4044.122)\n",
      "\n"
     ]
    }
   ],
   "source": [
    "accounts.entry_order(entry_strategies)\n",
    "accounts.show_status()"
   ]
  },
  {
   "cell_type": "code",
   "execution_count": 7,
   "metadata": {},
   "outputs": [],
   "source": [
    "exit_strategies = {\n",
    "    'VN30F2005':{\n",
    "        'volume': 1,\n",
    "    },\n",
    "#     'VN30F2006':{\n",
    "#         'volume': 1,\n",
    "#     },\n",
    "#     'VN30F2007':{\n",
    "#         'volume': 1,\n",
    "#     },\n",
    "}"
   ]
  },
  {
   "cell_type": "code",
   "execution_count": 8,
   "metadata": {},
   "outputs": [
    {
     "name": "stdout",
     "output_type": "stream",
     "text": [
      "Client 077C075248 - Cannot place short order for VN30F2005. Error message: Alert Text: Không thể đặt lệnh trước 8h15 và sau 15h.\n",
      "Message: unexpected alert open: {Alert text : Không thể đặt lệnh trước 8h15 và sau 15h.}\n",
      "  (Session info: chrome=81.0.4044.122)\n",
      "\n",
      "Client 077C071539 - Cannot place short order for VN30F2005. Error message: Alert Text: Không thể đặt lệnh trước 8h15 và sau 15h.\n",
      "Message: unexpected alert open: {Alert text : Không thể đặt lệnh trước 8h15 và sau 15h.}\n",
      "  (Session info: chrome=81.0.4044.122)\n",
      "\n"
     ]
    }
   ],
   "source": [
    "accounts.exit_order(exit_strategies)"
   ]
  },
  {
   "cell_type": "code",
   "execution_count": 1,
   "metadata": {
    "scrolled": false
   },
   "outputs": [
    {
     "output_type": "error",
     "ename": "NameError",
     "evalue": "name 'accounts' is not defined",
     "traceback": [
      "\u001b[1;31m---------------------------------------------------------------------------\u001b[0m",
      "\u001b[1;31mNameError\u001b[0m                                 Traceback (most recent call last)",
      "\u001b[1;32m<ipython-input-1-24d6c6d8145c>\u001b[0m in \u001b[0;36m<module>\u001b[1;34m\u001b[0m\n\u001b[1;32m----> 1\u001b[1;33m \u001b[0maccounts\u001b[0m\u001b[1;33m.\u001b[0m\u001b[0mclose\u001b[0m\u001b[1;33m(\u001b[0m\u001b[1;33m)\u001b[0m\u001b[1;33m\u001b[0m\u001b[1;33m\u001b[0m\u001b[0m\n\u001b[0m",
      "\u001b[1;31mNameError\u001b[0m: name 'accounts' is not defined"
     ]
    }
   ],
   "source": [
    "accounts.close()"
   ]
  }
 ],
 "metadata": {
  "kernelspec": {
   "display_name": "Python 3",
   "language": "python",
   "name": "python3"
  },
  "language_info": {
   "codemirror_mode": {
    "name": "ipython",
    "version": 3
   },
   "file_extension": ".py",
   "mimetype": "text/x-python",
   "name": "python",
   "nbconvert_exporter": "python",
   "pygments_lexer": "ipython3",
   "version": "3.7.6-final"
  }
 },
 "nbformat": 4,
 "nbformat_minor": 4
}